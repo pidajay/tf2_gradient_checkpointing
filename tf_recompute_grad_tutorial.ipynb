{
 "cells": [
  {
   "cell_type": "code",
   "execution_count": 1,
   "metadata": {},
   "outputs": [],
   "source": [
    "import os\n",
    "import tensorflow as tf\n",
    "from tensorflow import keras\n",
    "from tensorflow.keras import layers, optimizers, datasets\n",
    "from tensorflow.python.ops import custom_gradient\n",
    "from datetime import datetime\n",
    "from packaging import version\n",
    "os.environ['TF_CPP_MIN_LOG_LEVEL'] = '2' "
   ]
  },
  {
   "cell_type": "markdown",
   "metadata": {},
   "source": [
    "## Model definition\n",
    "### To make use of tf recompute grad, one has to manually split their 'big' model into manageable 'blocks' (each block corresponds to a logical 'checkpoint'). Below is an example of a simple CNN model that has been split into 2 blocks."
   ]
  },
  {
   "cell_type": "code",
   "execution_count": 2,
   "metadata": {},
   "outputs": [],
   "source": [
    "def simple_block1(img_dim, n_channels):\n",
    "    model = tf.keras.Sequential([\n",
    "    layers.Reshape(\n",
    "        target_shape=[img_dim, img_dim, n_channels],\n",
    "        input_shape=(img_dim, img_dim, n_channels)),\n",
    "    layers.Conv2D(1, 2, padding='same', activation=tf.nn.relu),\n",
    "    layers.MaxPooling2D((1, 1), padding='same')])\n",
    "    return model\n",
    "\n",
    "def simple_block2():\n",
    "    model = tf.keras.Sequential([\n",
    "    layers.Input(shape=(2,2,1)),\n",
    "    layers.Conv2D(1, 2, padding='same', activation=tf.nn.relu),\n",
    "    layers.MaxPooling2D((1, 1), padding='same'),\n",
    "    layers.Flatten(),\n",
    "    layers.Dense(2)])\n",
    "    return model"
   ]
  },
  {
   "cell_type": "code",
   "execution_count": 3,
   "metadata": {},
   "outputs": [],
   "source": [
    "def compute_loss(logits, labels):\n",
    "  return tf.reduce_mean(\n",
    "      tf.nn.sparse_softmax_cross_entropy_with_logits(\n",
    "          logits=logits, labels=labels))"
   ]
  },
  {
   "cell_type": "code",
   "execution_count": 4,
   "metadata": {},
   "outputs": [],
   "source": [
    "def train_step(n_steps=1):\n",
    "    img_dim = 2\n",
    "    n_channels = 1\n",
    "    bs = 1 \n",
    "    x = tf.ones([bs, img_dim,img_dim,n_channels])\n",
    "    y = tf.ones([bs], dtype=tf.int64)\n",
    "    # define your model and decorate it as follows\n",
    "    bk1_orig = simple_block1(img_dim, n_channels)\n",
    "    bk2_orig =  simple_block2()\n",
    "    # this is how you invoke the tf recompute_grad decorator on your block. Do this for all your blocks\n",
    "    bk1 = tf.recompute_grad(bk1_orig)\n",
    "    bk2 = tf.recompute_grad(bk2_orig)\n",
    "    optimizer = optimizers.SGD()\n",
    "    tr_vars = bk1_orig.trainable_variables + bk2_orig.trainable_variables\n",
    "    for _ in range(n_steps):\n",
    "        with tf.GradientTape() as tape:\n",
    "            logits1 = bk1(x, trainable_variables=bk1_orig.trainable_variables)\n",
    "            logits2 = bk2(logits1, trainable_variables=bk2_orig.trainable_variables)\n",
    "            loss  = compute_loss(logits2, y)\n",
    "            print('loss', loss)\n",
    "        grads = tape.gradient(loss, tr_vars) # tr_vars\n",
    "        optimizer.apply_gradients(zip(grads, tr_vars))\n",
    "        del grads "
   ]
  },
  {
   "cell_type": "code",
   "execution_count": 5,
   "metadata": {},
   "outputs": [
    {
     "name": "stdout",
     "output_type": "stream",
     "text": [
      "loss tf.Tensor(0.6931472, shape=(), dtype=float32)\n",
      "loss tf.Tensor(0.6881597, shape=(), dtype=float32)\n",
      "loss tf.Tensor(0.68322194, shape=(), dtype=float32)\n"
     ]
    }
   ],
   "source": [
    "train_step(3)"
   ]
  },
  {
   "cell_type": "code",
   "execution_count": null,
   "metadata": {},
   "outputs": [],
   "source": []
  }
 ],
 "metadata": {
  "kernelspec": {
   "display_name": "Python 3.7.7 64-bit",
   "language": "python",
   "name": "python37764bitc6497a0aa9a94ae0a3cd35c91c6c1677"
  },
  "language_info": {
   "codemirror_mode": {
    "name": "ipython",
    "version": 3
   },
   "file_extension": ".py",
   "mimetype": "text/x-python",
   "name": "python",
   "nbconvert_exporter": "python",
   "pygments_lexer": "ipython3",
   "version": "3.7.7"
  }
 },
 "nbformat": 4,
 "nbformat_minor": 4
}
